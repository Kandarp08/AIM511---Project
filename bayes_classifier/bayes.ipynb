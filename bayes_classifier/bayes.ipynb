{
 "cells": [
  {
   "cell_type": "code",
   "execution_count": 12,
   "metadata": {},
   "outputs": [],
   "source": [
    "import pandas as pd\n",
    "from sklearn.naive_bayes import GaussianNB\n",
    "from sklearn.metrics import accuracy_score\n",
    "from sklearn.model_selection import GridSearchCV"
   ]
  },
  {
   "cell_type": "markdown",
   "metadata": {},
   "source": [
    "## Load and Prepare Data\n",
    "1. Load training and testing datasets.\n",
    "2. Separate the features (`X`) and target labels (`y`) for both training and testing datasets."
   ]
  },
  {
   "cell_type": "code",
   "execution_count": 13,
   "metadata": {},
   "outputs": [],
   "source": [
    "#load data\n",
    "train_df=pd.read_csv('../cleaned_data/train_data.csv')\n",
    "test_df=pd.read_csv('../cleaned_data/test_data.csv')"
   ]
  },
  {
   "cell_type": "code",
   "execution_count": 14,
   "metadata": {},
   "outputs": [],
   "source": [
    "#separate data and label\n",
    "y_train=train_df['Default']\n",
    "X_train=train_df.drop(columns=['Default'])\n",
    "y_test=test_df['Default']\n",
    "X_test=test_df.drop(columns=['Default'])"
   ]
  },
  {
   "cell_type": "markdown",
   "metadata": {},
   "source": [
    "## Initialize Gaussian Naive Bayes Model\n",
    "Define the GaussianNB model for training and evaluation.\n",
    "## Hyperparameter Tuning with Grid Search\n",
    "1. Define a parameter grid for `var_smoothing` to smooth the Gaussian Naive Bayes curves.\n",
    "2. Perform an 8-fold cross-validation to find the best parameters using accuracy as the evaluation metric."
   ]
  },
  {
   "cell_type": "markdown",
   "metadata": {},
   "source": [
    "## Evaluate the Model\n",
    "1. Use the best model from grid search to make predictions on the test dataset.\n",
    "2. Calculate the accuracy of the predictions."
   ]
  },
  {
   "cell_type": "code",
   "execution_count": 15,
   "metadata": {},
   "outputs": [
    {
     "data": {
      "text/plain": [
       "0.8843009594673977"
      ]
     },
     "execution_count": 15,
     "metadata": {},
     "output_type": "execute_result"
    }
   ],
   "source": [
    "model=GaussianNB()\n",
    "#hyperparameter tuning\n",
    "param_grid={\n",
    "    'var_smoothing':[1e-11,1e-10,1e-9,1e-8,1e-7]      #stability criterion to smooth the curve\n",
    "}\n",
    "grid_search=GridSearchCV(model,param_grid=param_grid,cv=8,scoring='accuracy')\n",
    "grid_search.fit(X_train,y_train)\n",
    "best_model=grid_search.best_estimator_\n",
    "# model.fit(X_train,y_train)\n",
    "\n",
    "#make predictions\n",
    "y_pred=best_model.predict(X_test)\n",
    "accuracy_score(y_test,y_pred)"
   ]
  },
  {
   "cell_type": "markdown",
   "metadata": {},
   "source": [
    "## Retrain the Best Model on Combined Data\n",
    "Retrain the best model using the complete test dataset to utilize all available data.\n",
    "## Load Final Test Data\n",
    "1. Load the final test dataset.\n",
    "2. Extract the `LoanID` column and remove it from the dataset for prediction."
   ]
  },
  {
   "cell_type": "code",
   "execution_count": 16,
   "metadata": {},
   "outputs": [],
   "source": [
    "best_model.fit(X_test,y_test) #train the best model on the remaining data\n",
    "#load final test data \n",
    "final_test=pd.read_csv('../data/test.csv')\n",
    "loan_id_lists=final_test['LoanID']\n",
    "final_test.drop(columns=['LoanID'],inplace=True)\n",
    "#one hot encode the test data\n",
    "final_test=pd.get_dummies(final_test,columns=final_test.select_dtypes(include=['object','category']).columns,dtype=int)\n",
    "\n",
    "final_pred=best_model.predict(final_test)\n",
    "#write the prediction \n",
    "with open('gaussianNB_predictions.csv','w') as f:\n",
    "    f.write(\"LoanID,Default\\n\")\n",
    "    for i in range(final_test.shape[0]):\n",
    "        f.write(f'{loan_id_lists[i]},{final_pred[i]}\\n')\n"
   ]
  }
 ],
 "metadata": {
  "kernelspec": {
   "display_name": "ml",
   "language": "python",
   "name": "python3"
  },
  "language_info": {
   "codemirror_mode": {
    "name": "ipython",
    "version": 3
   },
   "file_extension": ".py",
   "mimetype": "text/x-python",
   "name": "python",
   "nbconvert_exporter": "python",
   "pygments_lexer": "ipython3",
   "version": "3.12.6"
  }
 },
 "nbformat": 4,
 "nbformat_minor": 2
}
