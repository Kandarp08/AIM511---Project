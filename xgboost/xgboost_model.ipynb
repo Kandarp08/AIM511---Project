{
 "cells": [
  {
   "cell_type": "markdown",
   "metadata": {},
   "source": [
    "### Import Libraries\n",
    "\n",
    "Import libraries for data handling, modeling, hyperparameter tuning, and model evaluation."
   ]
  },
  {
   "cell_type": "code",
   "execution_count": 1,
   "metadata": {},
   "outputs": [],
   "source": [
    "import pandas as pd\n",
    "from xgboost import XGBClassifier\n",
    "from sklearn.model_selection import RandomizedSearchCV\n",
    "from sklearn.metrics import accuracy_score"
   ]
  },
  {
   "cell_type": "markdown",
   "metadata": {},
   "source": [
    "### Load Data\n",
    "\n",
    "Load training and test datasets. Separate features and target (`Default` column) for training and testing."
   ]
  },
  {
   "cell_type": "code",
   "execution_count": 2,
   "metadata": {},
   "outputs": [],
   "source": [
    "#load data\n",
    "train_df=pd.read_csv('../cleaned_data/train_data.csv')\n",
    "test_df=pd.read_csv('../cleaned_data/test_data.csv')"
   ]
  },
  {
   "cell_type": "code",
   "execution_count": 3,
   "metadata": {},
   "outputs": [
    {
     "data": {
      "text/plain": [
       "(163421, 31)"
      ]
     },
     "execution_count": 3,
     "metadata": {},
     "output_type": "execute_result"
    }
   ],
   "source": [
    "y_train=train_df['Default']\n",
    "X_train=train_df.drop(columns=['Default'])\n",
    "y_test=test_df['Default']\n",
    "X_test=test_df.drop(columns=['Default'])\n",
    "X_train.shape"
   ]
  },
  {
   "cell_type": "markdown",
   "metadata": {},
   "source": [
    "### Initialize Model and Set Hyperparameters\n",
    "\n",
    "Initialize `XGBClassifier` with a seed. Set parameter grid for tuning."
   ]
  },
  {
   "cell_type": "markdown",
   "metadata": {},
   "source": [
    "### Hyperparameter Tuning with RandomizedSearchCV\n",
    "\n",
    "Perform randomized search for hyperparameters with 8-fold cross-validation. Fit to training data and save the best model."
   ]
  },
  {
   "cell_type": "markdown",
   "metadata": {},
   "source": [
    "### Evaluate the Model\n",
    "\n",
    "Predict on `X_test` and compute accuracy."
   ]
  },
  {
   "cell_type": "code",
   "execution_count": 4,
   "metadata": {},
   "outputs": [
    {
     "name": "stderr",
     "output_type": "stream",
     "text": [
      "/home/rudrap/AIM511---Project/ml/lib/python3.12/site-packages/sklearn/model_selection/_search.py:320: UserWarning: The total space of parameters 24 is smaller than n_iter=80. Running 24 iterations. For exhaustive searches, use GridSearchCV.\n",
      "  warnings.warn(\n"
     ]
    },
    {
     "data": {
      "text/plain": [
       "0.8855002937145094"
      ]
     },
     "execution_count": 4,
     "metadata": {},
     "output_type": "execute_result"
    }
   ],
   "source": [
    "model=XGBClassifier(seed=42)\n",
    "param_grid={\n",
    "    'n_estimators':[80,100],\n",
    "    'max_depth':[3,5,7,10],\n",
    "    'learning_rate':[0.01,0.1,0.2]\n",
    "}\n",
    "grid_search=RandomizedSearchCV(estimator=model,param_distributions=param_grid,\n",
    "                               n_iter=80,cv=8,verbose=0,\n",
    "                               random_state=42,n_jobs=-1)\n",
    "grid_search.fit(X_train,y_train)\n",
    "best_model=grid_search.best_estimator_\n",
    "y_pred=best_model.predict(X_test)\n",
    "accuracy=accuracy_score(y_test,y_pred)\n",
    "accuracy"
   ]
  },
  {
   "cell_type": "markdown",
   "metadata": {},
   "source": [
    "### Refitting on Entire Test Data for Final Prediction\n",
    "\n",
    "Refit `best_model` on the test dataset for final prediction."
   ]
  },
  {
   "cell_type": "markdown",
   "metadata": {},
   "source": [
    "### Load New Data and Prepare for Prediction\n",
    "\n",
    "Load final test dataset, save `LoanID`, and one-hot encode categorical features.\n",
    "### Generate Predictions and Write to File\n",
    "\n",
    "Generate predictions on `final_test` and save `LoanID` with predictions to `xgboost_predictions.csv`."
   ]
  },
  {
   "cell_type": "code",
   "execution_count": 5,
   "metadata": {},
   "outputs": [],
   "source": [
    "best_model.fit(X_test,y_test)\n",
    "final_test=pd.read_csv('../data/test.csv')\n",
    "loan_id_lists=final_test['LoanID']\n",
    "final_test.drop(columns=['LoanID'],inplace=True)\n",
    "#one hot encode the test data\n",
    "final_test=pd.get_dummies(final_test,columns=final_test.select_dtypes(include=['object','category']).columns,dtype=int)\n",
    "\n",
    "final_pred=best_model.predict(final_test)\n",
    "#write the prediction \n",
    "with open('xgboost_predictions.csv','w') as f:\n",
    "    f.write(\"LoanID,Default\\n\")\n",
    "    for i in range(final_test.shape[0]):\n",
    "        f.write(f'{loan_id_lists[i]},{final_pred[i]}\\n')"
   ]
  }
 ],
 "metadata": {
  "kernelspec": {
   "display_name": "ml",
   "language": "python",
   "name": "python3"
  },
  "language_info": {
   "codemirror_mode": {
    "name": "ipython",
    "version": 3
   },
   "file_extension": ".py",
   "mimetype": "text/x-python",
   "name": "python",
   "nbconvert_exporter": "python",
   "pygments_lexer": "ipython3",
   "version": "3.12.6"
  }
 },
 "nbformat": 4,
 "nbformat_minor": 2
}
